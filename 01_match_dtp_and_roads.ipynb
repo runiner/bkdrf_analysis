{
 "cells": [
  {
   "cell_type": "code",
   "execution_count": 1,
   "metadata": {},
   "outputs": [],
   "source": [
    "import csv\n",
    "import json\n",
    "import logging\n",
    "import math\n",
    "\n",
    "import tqdm\n",
    "from shapely.geometry import Point, LineString"
   ]
  },
  {
   "cell_type": "code",
   "execution_count": null,
   "metadata": {},
   "outputs": [],
   "source": []
  },
  {
   "cell_type": "code",
   "execution_count": 2,
   "metadata": {},
   "outputs": [],
   "source": [
    "with open(\"tomskaia-oblast.geojson\", \"rt\") as f:\n",
    "    dtp = json.load(f)"
   ]
  },
  {
   "cell_type": "code",
   "execution_count": 3,
   "metadata": {},
   "outputs": [
    {
     "data": {
      "text/plain": [
       "4718"
      ]
     },
     "execution_count": 3,
     "metadata": {},
     "output_type": "execute_result"
    }
   ],
   "source": [
    "len(dtp[\"features\"])"
   ]
  },
  {
   "cell_type": "code",
   "execution_count": 4,
   "metadata": {},
   "outputs": [
    {
     "data": {
      "text/plain": [
       "dict_keys(['type', 'geometry', 'properties'])"
      ]
     },
     "execution_count": 4,
     "metadata": {},
     "output_type": "execute_result"
    }
   ],
   "source": [
    "dtp[\"features\"][0].keys()"
   ]
  },
  {
   "cell_type": "code",
   "execution_count": 5,
   "metadata": {},
   "outputs": [
    {
     "name": "stdout",
     "output_type": "stream",
     "text": [
      "всего ДТП в регионе \"Томск\": 2318\n"
     ]
    }
   ],
   "source": [
    "# # cut-off DTP related to Tomsk city\n",
    "# tomsk_boundaries = {\"min\": {\"lat\": 56.4, \"lon\": 84.8}, \"max\": {\"lat\": 56.56, \"lon\": 85.1}}\n",
    "\n",
    "# def check_boundary(item):\n",
    "#     lon, lat = item[\"geometry\"][\"coordinates\"]\n",
    "#     if not lon or not lat:\n",
    "#         logging.warning(f'Unknown coordinates! Region: {item[\"properties\"][\"region\"]}.')\n",
    "#         return False\n",
    "#     return (tomsk_boundaries[\"min\"][\"lat\"] < lat < tomsk_boundaries[\"max\"][\"lat\"]\n",
    "#            and tomsk_boundaries[\"min\"][\"lon\"] < lon < tomsk_boundaries[\"max\"][\"lon\"])\n",
    "\n",
    "def check_region(item):\n",
    "    return item[\"properties\"][\"region\"] == \"Томск\"\n",
    "\n",
    "dtp_tomsk = list(filter(check_region, dtp[\"features\"]))\n",
    "print(f'всего ДТП в регионе \"Томск\": {len(dtp_tomsk)}')"
   ]
  },
  {
   "cell_type": "code",
   "execution_count": 6,
   "metadata": {},
   "outputs": [
    {
     "name": "stdout",
     "output_type": "stream",
     "text": [
      "Header columns: ['type', 'worktypeid', 'status', 'geometry_json', 'victoryroad', 'title', 'id_fragment']\n"
     ]
    }
   ],
   "source": [
    "roads = []\n",
    "with open(\"00_roads.csv\", \"rt\") as f:\n",
    "    reader = csv.reader(f)\n",
    "    header = next(reader)\n",
    "    print(\"Header columns:\", header)\n",
    "    geometry_index = header.index(\"geometry_json\")\n",
    "    for row in reader:\n",
    "        # parse geojson object from string\n",
    "        row[geometry_index] = json.loads(row[geometry_index])\n",
    "        roads.append(dict(zip(header,row)))"
   ]
  },
  {
   "cell_type": "code",
   "execution_count": 7,
   "metadata": {},
   "outputs": [
    {
     "data": {
      "text/plain": [
       "209"
      ]
     },
     "execution_count": 7,
     "metadata": {},
     "output_type": "execute_result"
    }
   ],
   "source": [
    "len(roads)"
   ]
  },
  {
   "cell_type": "code",
   "execution_count": 8,
   "metadata": {},
   "outputs": [
    {
     "data": {
      "text/plain": [
       "({'type': 'Feature',\n",
       "  'worktypeid': '62684cfd-a975-427d-a0de-2809e4448468',\n",
       "  'status': '2',\n",
       "  'geometry_json': {'type': 'Point',\n",
       "   'coordinates': [84.87588349547373, 56.60275976399258]},\n",
       "  'victoryroad': 'False',\n",
       "  'title': 'автодорога \"Северные автомогистраль ПК 0 по  ПК 21+90',\n",
       "  'id_fragment': '4d038213-f907-4c69-94e3-c55399866954'},\n",
       " {'type': 'Feature',\n",
       "  'worktypeid': '88385f78-2a6e-4c60-94e9-4b63f24c3b85',\n",
       "  'status': '2',\n",
       "  'geometry_json': {'type': 'LineString',\n",
       "   'coordinates': [[81.00193977355958, 58.88337003335058],\n",
       "    [81.00138187408447, 58.8872980422736],\n",
       "    [80.99940776824953, 58.891558428860755],\n",
       "    [80.99863529205324, 58.89397685223988],\n",
       "    [81.00125312805177, 58.89679443490843],\n",
       "    [80.99876403808595, 58.901652561663],\n",
       "    [80.9997081756592, 58.906088610587624],\n",
       "    [80.99799156188966, 58.90886085200609],\n",
       "    [80.98653316497804, 58.91761967304173],\n",
       "    [80.97357273101808, 58.928038668306876],\n",
       "    [80.9716844558716, 58.929124723036125],\n",
       "    [80.95846652984619, 58.935551694461815],\n",
       "    [80.9531879425049, 58.93790056471004],\n",
       "    [80.94554901123047, 58.94264213638611],\n",
       "    [80.9407424926758, 58.947360904259654]]},\n",
       "  'victoryroad': 'False',\n",
       "  'title': 'Выполнение работ по ремонту и содержанию автомобильной дороги Могильный Мыс - Парабель - Каргасок на участке км 149+000 - км 157+360 в Каргасокском районе Томской области',\n",
       "  'id_fragment': 'c6219960-ada2-44a8-b794-a5baf84316df'})"
      ]
     },
     "execution_count": 8,
     "metadata": {},
     "output_type": "execute_result"
    }
   ],
   "source": [
    "list(filter(lambda x: x[\"geometry_json\"][\"type\"]==\"Point\", roads))[0],\\\n",
    "list(filter(lambda x: x[\"geometry_json\"][\"type\"]==\"LineString\", roads))[0]"
   ]
  },
  {
   "cell_type": "code",
   "execution_count": 9,
   "metadata": {},
   "outputs": [],
   "source": [
    "def get_distance(coord, geo_obj) -> float:\n",
    "    \"\"\"returns distance (in km) from Point `coord` to `geo_obj`\n",
    "    geo_obj: geojson object with type Point or LineString\"\"\"\n",
    "    \n",
    "    coord_lon, coord_lat = coord\n",
    "    \n",
    "    grad_lat = 111.111  # km/gradus\n",
    "    grad_lon = (40000/360)*math.cos(coord_lat/180*math.pi)\n",
    "    \n",
    "    correction = grad_lon/grad_lat\n",
    "    \n",
    "    flat_coord = Point([coord_lon*correction, coord_lat])\n",
    "    \n",
    "    if geo_obj[\"type\"] == \"Point\":\n",
    "        flat_obj = Point([geo_obj[\"coordinates\"][0]*correction, geo_obj[\"coordinates\"][1]])\n",
    "    elif geo_obj[\"type\"] == \"LineString\" and len(geo_obj[\"coordinates\"]) == 1:\n",
    "        # line with only one point, will handle as Point\n",
    "        flat_obj = Point([geo_obj[\"coordinates\"][0][0]*correction, geo_obj[\"coordinates\"][0][1]])\n",
    "    elif geo_obj[\"type\"] == \"LineString\":\n",
    "        flat_obj = LineString([[p[0]*correction, p[1]] for p in geo_obj[\"coordinates\"]])\n",
    "    else:\n",
    "        raise ValueError(f\"Unsupported type of geo_obj: {geo_obj}!\")\n",
    "    return flat_coord.distance(flat_obj) * grad_lat\n",
    "\n",
    "# tests:\n",
    "# get_distance([79,59], {\"type\": \"LineString\", \"coordinates\": [[80,59],[81,59]]}) -> 57.22645276778391\n",
    "# get_distance([80,58], {\"type\": \"LineString\", \"coordinates\": [[80,59],[81,59]]}) -> 111.111\n"
   ]
  },
  {
   "cell_type": "code",
   "execution_count": 10,
   "metadata": {},
   "outputs": [
    {
     "name": "stderr",
     "output_type": "stream",
     "text": [
      " 53%|█████▎    | 1225/2318 [00:05<00:04, 241.21it/s]WARNING:root:No coords for DTP id:2282542!\n",
      " 54%|█████▍    | 1250/2318 [00:05<00:04, 241.15it/s]WARNING:root:No coords for DTP id:2282553!\n",
      "WARNING:root:No coords for DTP id:2282554!\n",
      "100%|██████████| 2318/2318 [00:09<00:00, 238.47it/s]\n"
     ]
    }
   ],
   "source": [
    "allowed_distance = 0.050  # DTP within this range (in km) will be associated with repaired road\n",
    "collected_dtp = []\n",
    "\n",
    "for dtp in tqdm.tqdm(dtp_tomsk):\n",
    "    dtp_id = dtp[\"properties\"][\"id\"]\n",
    "    dtp_lat = dtp[\"properties\"][\"point\"][\"lat\"]\n",
    "    dtp_lon = dtp[\"properties\"][\"point\"][\"long\"]\n",
    "    if not dtp_lat or not dtp_lon:\n",
    "        logging.warning(f\"No coords for DTP id:{dtp_id}!\")\n",
    "        continue\n",
    "        \n",
    "    # choose only one road repair which is closest to DTP coords\n",
    "#     collected_remonts = []\n",
    "    found_fragment = None\n",
    "    found_min_dist = 2 * allowed_distance  # set default to a number, larger than allowed threshold\n",
    "    for remont in roads:\n",
    "        dtp_distance = get_distance([dtp_lon, dtp_lat], remont[\"geometry_json\"])\n",
    "        if  dtp_distance < allowed_distance and dtp_distance < found_min_dist:\n",
    "            found_min_dist = dtp_distance\n",
    "#             collected_remonts.append(remont[\"id_fragment\"])\n",
    "            found_fragment = remont[\"id_fragment\"]\n",
    "#     collected_remonts = list(set(collected_remonts))\n",
    "#     collected_dtp.append({\"dtp_id\": dtp_id, \"fragments\": collected_remonts})\n",
    "    collected_dtp.append({\"dtp_id\": dtp_id, \"fragment\": found_fragment})"
   ]
  },
  {
   "cell_type": "code",
   "execution_count": 11,
   "metadata": {},
   "outputs": [],
   "source": [
    "with open(\"01_dtp_to_fragments.json\", \"wt+\") as f:\n",
    "    json.dump(collected_dtp, f, indent=2)"
   ]
  },
  {
   "cell_type": "code",
   "execution_count": null,
   "metadata": {},
   "outputs": [],
   "source": []
  },
  {
   "cell_type": "code",
   "execution_count": null,
   "metadata": {},
   "outputs": [],
   "source": []
  },
  {
   "cell_type": "code",
   "execution_count": 12,
   "metadata": {},
   "outputs": [
    {
     "data": {
      "text/plain": [
       "[{'type': 'Feature',\n",
       "  'geometry': {'type': 'Point', 'coordinates': [84.965365, 56.537441]},\n",
       "  'properties': {'id': 2281407,\n",
       "   'tags': ['Дорожно-транспортные происшествия'],\n",
       "   'light': 'Светлое время суток',\n",
       "   'point': {'lat': 56.537441, 'long': 84.965365},\n",
       "   'nearby': ['Остановка общественного транспорта',\n",
       "    'Одиночный торговый объект, являющийся местом притяжения транспорта и (или) пешеходов'],\n",
       "   'region': 'Томск',\n",
       "   'address': 'г Томск, ул Кутузова, 1а',\n",
       "   'weather': ['Ясно'],\n",
       "   'category': 'Наезд на стоящее ТС',\n",
       "   'datetime': '2018-09-07 17:42:00',\n",
       "   'severity': 'Тяжёлый',\n",
       "   'vehicles': [{'year': 1989,\n",
       "     'brand': 'ВАЗ',\n",
       "     'color': 'Серый',\n",
       "     'model': ' Жигули  ВАЗ-2106 модификации',\n",
       "     'category': 'С-класс (малый средний, компактный) до 4,3 м',\n",
       "     'participants': [{'role': 'Водитель',\n",
       "       'gender': 'Мужской',\n",
       "       'violations': ['Управление ТС лицом, лишенным права управления',\n",
       "        'Управление ТС в состоянии наркотического опьянения',\n",
       "        'Другие нарушения ПДД водителем',\n",
       "        'Несоблюдение требований ОСАГО'],\n",
       "       'health_status': 'Получил травмы с оказанием разовой медицинской помощи, к категории раненый не относится',\n",
       "       'years_of_driving_experience': None}]},\n",
       "    {'year': 1995,\n",
       "     'brand': 'NISSAN',\n",
       "     'color': 'Серый',\n",
       "     'model': 'Presea',\n",
       "     'category': 'С-класс (малый средний, компактный) до 4,3 м',\n",
       "     'participants': [{'role': 'Водитель',\n",
       "       'gender': 'Мужской',\n",
       "       'violations': [],\n",
       "       'health_status': 'Не пострадал',\n",
       "       'years_of_driving_experience': 2}]},\n",
       "    {'year': 2012,\n",
       "     'brand': 'ВАЗ',\n",
       "     'color': 'Иные цвета',\n",
       "     'model': 'Priora',\n",
       "     'category': 'С-класс (малый средний, компактный) до 4,3 м',\n",
       "     'participants': [{'role': 'Водитель',\n",
       "       'gender': 'Мужской',\n",
       "       'violations': [],\n",
       "       'health_status': 'Не пострадал',\n",
       "       'years_of_driving_experience': 22}]}],\n",
       "   'dead_count': 0,\n",
       "   'participants': [{'role': 'Пешеход',\n",
       "     'gender': 'Мужской',\n",
       "     'violations': [],\n",
       "     'health_status': 'Раненый, находящийся (находившийся) на стационарном лечении'}],\n",
       "   'injured_count': 1,\n",
       "   'parent_region': 'Томская область',\n",
       "   'road_conditions': ['Сухое'],\n",
       "   'participants_count': 4,\n",
       "   'participant_categories': ['Пешеходы', 'Все участники']}}]"
      ]
     },
     "execution_count": 12,
     "metadata": {},
     "output_type": "execute_result"
    }
   ],
   "source": [
    "list(filter(lambda x: x[\"properties\"][\"id\"]==2281407, dtp_tomsk))"
   ]
  },
  {
   "cell_type": "code",
   "execution_count": null,
   "metadata": {},
   "outputs": [],
   "source": []
  }
 ],
 "metadata": {
  "kernelspec": {
   "display_name": "Python 3",
   "language": "python",
   "name": "python3"
  },
  "language_info": {
   "codemirror_mode": {
    "name": "ipython",
    "version": 3
   },
   "file_extension": ".py",
   "mimetype": "text/x-python",
   "name": "python",
   "nbconvert_exporter": "python",
   "pygments_lexer": "ipython3",
   "version": "3.8.5"
  }
 },
 "nbformat": 4,
 "nbformat_minor": 4
}
